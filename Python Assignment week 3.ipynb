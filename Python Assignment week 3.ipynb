{
 "cells": [
  {
   "cell_type": "markdown",
   "id": "b37df9f0-491f-4cee-9414-50720eaf9b20",
   "metadata": {},
   "source": [
    "Q1. Create a python program to sort the given list of tuples based on integer value using a\n",
    "lambda function.\n",
    "[('Sachin Tendulkar', 34357), ('Ricky Ponting', 27483), ('Jack Kallis', 25534), ('Virat Kohli', 24936)]"
   ]
  },
  {
   "cell_type": "code",
   "execution_count": 8,
   "id": "3d91f842-04d5-40fc-87eb-fac19d7a6743",
   "metadata": {},
   "outputs": [
    {
     "data": {
      "text/plain": [
       "[('Virat Kohli', 24936),\n",
       " ('Jack Kallis', 25534),\n",
       " ('Ricky Ponting', 27483),\n",
       " ('Sachin Tendulkar', 34357)]"
      ]
     },
     "execution_count": 8,
     "metadata": {},
     "output_type": "execute_result"
    }
   ],
   "source": [
    "#Q1 Answer \n",
    "tup1 =  [('Sachin Tendulkar', 34357), ('Ricky Ponting', 27483), ('Jack Kallis', 25534), ('Virat Kohli', 24936)]\n",
    "tup2 = sorted(tup1, key = lambda tup1 : tup1[1]) # sorting tuple as key = integer value \n",
    "tup2"
   ]
  },
  {
   "cell_type": "markdown",
   "id": "3c17ceb8-6e8c-4d8c-8a06-900312033623",
   "metadata": {},
   "source": [
    "Q2. Write a Python Program to find the squares of all the numbers in the given list of integers using\n",
    "lambda and map functions.\n",
    "[1, 2, 3, 4, 5, 6, 7, 8, 9, 10]"
   ]
  },
  {
   "cell_type": "code",
   "execution_count": 12,
   "id": "f442576c-fb89-4438-8453-fda0bd02e58d",
   "metadata": {},
   "outputs": [
    {
     "data": {
      "text/plain": [
       "[1, 4, 9, 16, 25, 36, 49, 64, 81, 100]"
      ]
     },
     "execution_count": 12,
     "metadata": {},
     "output_type": "execute_result"
    }
   ],
   "source": [
    "lst_int  = [1, 2, 3, 4, 5, 6, 7, 8, 9, 10]\n",
    "lst_sqr = list(map(lambda x : x**2 , lst_int))\n",
    "lst_sqr"
   ]
  },
  {
   "cell_type": "markdown",
   "id": "b072636b-7c56-40dd-8b9c-d9978677aa7e",
   "metadata": {},
   "source": [
    "Q3. Write a python program to convert the given list of integers into a tuple of strings. Use map and\n",
    "lambda functions\n",
    "Given String: [1, 2, 3, 4, 5, 6, 7, 8, 9, 10]"
   ]
  },
  {
   "cell_type": "code",
   "execution_count": 13,
   "id": "67fe4cc1-af94-419c-885a-758b139121a9",
   "metadata": {},
   "outputs": [
    {
     "data": {
      "text/plain": [
       "('1', '2', '3', '4', '5', '6', '7', '8', '9', '10')"
      ]
     },
     "execution_count": 13,
     "metadata": {},
     "output_type": "execute_result"
    }
   ],
   "source": [
    "lst_1 = [1, 2, 3, 4, 5, 6, 7, 8, 9, 10]\n",
    "tuple_str = tuple(map(lambda x : str(x), lst_1))\n",
    "tuple_str"
   ]
  },
  {
   "cell_type": "markdown",
   "id": "212ac1c0-4a3b-4081-aa5f-736b113f8faf",
   "metadata": {},
   "source": [
    "Q4. Write a python program using reduce function to compute the product of a list containing numbers\n",
    "from 1 to 25."
   ]
  },
  {
   "cell_type": "code",
   "execution_count": 16,
   "id": "2b7b634e-8200-42d5-aff2-9d6cf2a10fca",
   "metadata": {},
   "outputs": [
    {
     "data": {
      "text/plain": [
       "15511210043330985984000000"
      ]
     },
     "execution_count": 16,
     "metadata": {},
     "output_type": "execute_result"
    }
   ],
   "source": [
    "from functools import reduce\n",
    "list_num1 = list(range(1,26))\n",
    "reduce(lambda x,y : x*y, list_num1)"
   ]
  },
  {
   "cell_type": "markdown",
   "id": "99aaeb22-bb09-4e8a-a621-bf837d3b9a87",
   "metadata": {},
   "source": [
    "Q5. Write a python program to filter the numbers in a given list that are divisible by 2 and 3 using the\n",
    "filter function.\n",
    "[2, 3, 6, 9, 27, 60, 90, 120, 55, 46]"
   ]
  },
  {
   "cell_type": "code",
   "execution_count": 25,
   "id": "fdd2d4ea-11e8-4e18-be60-63aa24526480",
   "metadata": {},
   "outputs": [
    {
     "data": {
      "text/plain": [
       "[6, 60, 90, 120]"
      ]
     },
     "execution_count": 25,
     "metadata": {},
     "output_type": "execute_result"
    }
   ],
   "source": [
    "list_num2 = [2, 3, 6, 9, 27, 60, 90, 120, 55, 46]\n",
    "New_list = list(filter(lambda x : x%2 == 0 and x%3==0, list_num2))\n",
    "New_list"
   ]
  },
  {
   "cell_type": "markdown",
   "id": "6a0effd2-fc58-41bd-bac1-0ad7fba2923b",
   "metadata": {},
   "source": [
    "Q6. Write a python program to find palindromes in the given list of strings using lambda and filter\n",
    "function.\n",
    "['python', 'php', 'aba', 'radar', 'level']"
   ]
  },
  {
   "cell_type": "code",
   "execution_count": 3,
   "id": "232ed7c1-7ee2-4723-ae4d-a43249b1975a",
   "metadata": {},
   "outputs": [
    {
     "data": {
      "text/plain": [
       "['php', 'aba', 'radar', 'level']"
      ]
     },
     "execution_count": 3,
     "metadata": {},
     "output_type": "execute_result"
    }
   ],
   "source": [
    "list_str1 =  ['python', 'php', 'aba', 'radar', 'level']\n",
    "palindromes = list(filter(lambda x : x == x[::-1], list_str1))\n",
    "palindromes"
   ]
  }
 ],
 "metadata": {
  "kernelspec": {
   "display_name": "Python 3 (ipykernel)",
   "language": "python",
   "name": "python3"
  },
  "language_info": {
   "codemirror_mode": {
    "name": "ipython",
    "version": 3
   },
   "file_extension": ".py",
   "mimetype": "text/x-python",
   "name": "python",
   "nbconvert_exporter": "python",
   "pygments_lexer": "ipython3",
   "version": "3.10.8"
  }
 },
 "nbformat": 4,
 "nbformat_minor": 5
}
